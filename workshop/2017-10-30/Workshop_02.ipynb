{
 "cells": [
  {
   "cell_type": "code",
   "execution_count": 1,
   "metadata": {},
   "outputs": [
    {
     "name": "stdout",
     "output_type": "stream",
     "text": [
      "Evaluating fenvs.py..\n",
      "...fenvs.py imported in 0.006764 seconds\n"
     ]
    },
    {
     "data": {
      "text/plain": [
       "<pyplasm.xgepy.Hpc; proxy of <Swig Object of type 'std::shared_ptr< Hpc > *' at 0x7f75077a7db0> >"
      ]
     },
     "execution_count": 1,
     "metadata": {},
     "output_type": "execute_result"
    }
   ],
   "source": [
    "from pyplasm import *\n",
    "\n",
    "def cabinet(x,y,z):\n",
    "    return CUBOID([x,y,z])\n",
    "\n",
    "def forniture(x,y,z):\n",
    "    cabinet1 = COLOR(BROWN)(cabinet(x,y,0.4*z))\n",
    "    cabinet2 = COLOR(CYAN)(cabinet(x,y,0.2*z))\n",
    "    cabinet3 = COLOR(BROWN)(cabinet(x,y,0.4*z))\n",
    "    return (STRUCT([TOP([TOP([cabinet1,cabinet2]),cabinet3])]))\n",
    "\n",
    "VIEW(forniture(0.4, 0.3, 1.8))"
   ]
  },
  {
   "cell_type": "code",
   "execution_count": 2,
   "metadata": {},
   "outputs": [
    {
     "data": {
      "text/plain": [
       "<pyplasm.xgepy.Hpc; proxy of <Swig Object of type 'std::shared_ptr< Hpc > *' at 0x7f75077a9bd0> >"
      ]
     },
     "execution_count": 2,
     "metadata": {},
     "output_type": "execute_result"
    }
   ],
   "source": [
    "from pyplasm import *\n",
    "\n",
    "def shelf(x,y,z,h): # x larghezza, y lunghezza, z spessore, h altezza dal suolo\n",
    "    shelf = CUBOID([x,y,z])\n",
    "    return T(3)(h)(shelf)\n",
    "\n",
    "def shelves(x,y,z,h):\n",
    "    shelf1 = COLOR(GRAY)(shelf(x,y,z,h-0.2))\n",
    "    shelf2 = COLOR(GRAY)(shelf(x,y,z,h-0.4))\n",
    "    return (STRUCT([shelf1,shelf2]))\n",
    "\n",
    "VIEW(shelves(0.6,0.2,0.02,1.8))"
   ]
  },
  {
   "cell_type": "code",
   "execution_count": 3,
   "metadata": {},
   "outputs": [
    {
     "data": {
      "text/plain": [
       "<pyplasm.xgepy.Hpc; proxy of <Swig Object of type 'std::shared_ptr< Hpc > *' at 0x7f7506777030> >"
      ]
     },
     "execution_count": 3,
     "metadata": {},
     "output_type": "execute_result"
    }
   ],
   "source": [
    "from pyplasm import *\n",
    "\n",
    "def slab(x,y,z):\n",
    "    return CUBOID([x,y,z])\n",
    "\n",
    "def small_bookcase(x,y,z,h): # x larghezza, y lunghezza, z spessore, h altezza dal suolo\n",
    "    bookcase = STRUCT([slab(x,y,z),slab(z,y,x),T(1)(x*0.5)(slab(z,y,x)),T(1)(x)(slab(z,y,x)),\n",
    "                       T(3)(x*0.5)(slab(x,y,z)),T(3)(x-z)(slab(x,y,z)),slab(x,0.001,x)])\n",
    "    return COLOR(BROWN)(T(3)(h-z)(bookcase))\n",
    "\n",
    "VIEW(small_bookcase(0.6,0.2,0.02,1.8))"
   ]
  },
  {
   "cell_type": "code",
   "execution_count": 4,
   "metadata": {},
   "outputs": [
    {
     "data": {
      "text/plain": [
       "<pyplasm.xgepy.Hpc; proxy of <Swig Object of type 'std::shared_ptr< Hpc > *' at 0x7f7506777330> >"
      ]
     },
     "execution_count": 4,
     "metadata": {},
     "output_type": "execute_result"
    }
   ],
   "source": [
    "from pyplasm import *\n",
    "\n",
    "def bookcase(x,y,z,h): # x larghezza, y lunghezza, z spessore, h altezza\n",
    "    case = STRUCT([slab(x,y,z),slab(z,y,h),T(1)(x*1.0/3.0)(slab(z,y,h)),T(1)(x*2.0/3.0)(slab(z,y,h)),\n",
    "                   T(1)(x)(slab(z,y,h)),T(3)(h*1.0/5.0)(slab(x,y,z)),T(3)(h*2.0/5.0)(slab(x,y,z)),\n",
    "                   T(3)(h*3.0/5.0)(slab(x,y,z)),T(3)(h*4.0/5.0)(slab(x,y,z)),T(3)(h-z)(slab(x,y,z)),\n",
    "                   slab(x,0.001,h)])\n",
    "    return COLOR(GRAY)(case)\n",
    "\n",
    "VIEW(bookcase(1.2,0.2,0.02,1.6))"
   ]
  },
  {
   "cell_type": "code",
   "execution_count": 5,
   "metadata": {},
   "outputs": [
    {
     "data": {
      "text/plain": [
       "<pyplasm.xgepy.Hpc; proxy of <Swig Object of type 'std::shared_ptr< Hpc > *' at 0x7f7506777210> >"
      ]
     },
     "execution_count": 5,
     "metadata": {},
     "output_type": "execute_result"
    }
   ],
   "source": [
    "from pyplasm import *\n",
    "\n",
    "def book_cabinet(x,y,z,h): # x larghezza, y lunghezza, z spessore, h altezza\n",
    "    cab = STRUCT([slab(x,y,z),slab(z,y,h),T(1)(x)(slab(z,y,h)),T(3)(h*0.1/0.3)(slab(x,y,z)),T(3)(h*0.2/0.3)(slab(x,y,z)),\n",
    "                 T(3)(h-z)(slab(x,y,z)),slab(x,0.001,h)])\n",
    "    return COLOR(GRAY)(cab)\n",
    "\n",
    "VIEW(book_cabinet(0.6,0.2,0.02,0.6))"
   ]
  },
  {
   "cell_type": "code",
   "execution_count": 6,
   "metadata": {},
   "outputs": [
    {
     "data": {
      "text/plain": [
       "<pyplasm.xgepy.Hpc; proxy of <Swig Object of type 'std::shared_ptr< Hpc > *' at 0x7f75067776f0> >"
      ]
     },
     "execution_count": 6,
     "metadata": {},
     "output_type": "execute_result"
    }
   ],
   "source": [
    "from pyplasm import *\n",
    "\n",
    "def small_forniture(x,y,z):\n",
    "    cabinet1 = COLOR(BROWN)(cabinet(x*0.4,y,z-0.05))\n",
    "    cabinet2 = COLOR(CYAN)(cabinet(x*0.2,y,z-0.05))\n",
    "    cabinet3 = COLOR(BROWN)(cabinet(x*0.4,y,z-0.05))\n",
    "    forniture = (STRUCT([RIGHT([RIGHT([cabinet1,cabinet2]),cabinet3])]))\n",
    "    leg = COLOR(CYAN)(cabinet(0.05,y,0.05))\n",
    "    return STRUCT([leg, T(1)(x-0.05)(leg),T(3)(0.05)(forniture)])\n",
    "\n",
    "VIEW(small_forniture(0.6,0.2,0.5))"
   ]
  },
  {
   "cell_type": "code",
   "execution_count": 7,
   "metadata": {},
   "outputs": [
    {
     "data": {
      "text/plain": [
       "<pyplasm.xgepy.Hpc; proxy of <Swig Object of type 'std::shared_ptr< Hpc > *' at 0x7f7506777db0> >"
      ]
     },
     "execution_count": 7,
     "metadata": {},
     "output_type": "execute_result"
    }
   ],
   "source": [
    "def sofa(x,y,z): # x larghezza, y profondità, z altezza\n",
    "    base = COLOR(GRAY)(CUBOID([x,y,z*0.4]))\n",
    "    back = COLOR(GRAY)(CUBOID([x,y*0.1,z]))\n",
    "    arm1 = COLOR(GRAY)(CUBOID([x*0.1,y,z*0.7]))\n",
    "    arm2 = T(1)(x-x*0.1)(COLOR(GRAY)(CUBOID([x*0.1,y,z*0.7])))\n",
    "    saddle = T([1,2,3])([x*0.1,y*0.1,z*0.4])(COLOR(BROWN)(CUBOID([x*0.8,y-y*0.1,z*0.1])))\n",
    "    return STRUCT([base,back,arm1,arm2,saddle])\n",
    "\n",
    "VIEW(sofa(3.0,1.0,1.2))"
   ]
  },
  {
   "cell_type": "code",
   "execution_count": 8,
   "metadata": {},
   "outputs": [
    {
     "data": {
      "text/plain": [
       "<pyplasm.xgepy.Hpc; proxy of <Swig Object of type 'std::shared_ptr< Hpc > *' at 0x7f7506777f30> >"
      ]
     },
     "execution_count": 8,
     "metadata": {},
     "output_type": "execute_result"
    }
   ],
   "source": [
    "from pyplasm import *\n",
    "\n",
    "def wall(x,y):\n",
    "    return STRUCT([T(2)(-0.001)(CUBOID([x,0.001,y]))])\n",
    "\n",
    "VIEW(wall(3.0,2.0))"
   ]
  },
  {
   "cell_type": "code",
   "execution_count": 9,
   "metadata": {},
   "outputs": [
    {
     "data": {
      "text/plain": [
       "<pyplasm.xgepy.Hpc; proxy of <Swig Object of type 'std::shared_ptr< Hpc > *' at 0x7f7506781360> >"
      ]
     },
     "execution_count": 9,
     "metadata": {},
     "output_type": "execute_result"
    }
   ],
   "source": [
    "from pyplasm import *\n",
    "\n",
    "d = 0.2  # standard depth (profondita')\n",
    "t = 0.02 # standard thickness (spessore)\n",
    "r = 0.4  # standard distance between fornitures\n",
    "\n",
    "def first_side(x,h): # x larghezza, h altezza\n",
    "    side = wall(x,h)\n",
    "    forniture1 = T(1)(x*0.05)(forniture(x*0.15,d,h-0.2))\n",
    "    shelves1 = T(1)(x*0.2)(shelves(x*0.2,d,t,h-0.2))\n",
    "    case1 = T(1)(x*0.4)(small_bookcase(x*0.2-t,d,t,h-0.2-x*0.2))\n",
    "    shelves2 = T(1)(x*0.6)(shelves(x*0.2,d,t,h-0.2))\n",
    "    forniture2 = T(1)(x*0.8)(forniture(x*0.15,d,h-0.2))\n",
    "    cab1 = T(1)(x*0.2)(book_cabinet(x*0.2-t,d,t,h*0.4))\n",
    "    case2 = T(1)(x*0.4)(small_forniture(x*0.2,d,h*0.3))\n",
    "    cab2 = T(1)(x*0.6)(book_cabinet(x*0.2-t,d,t,h*0.4))\n",
    "    return STRUCT([side,forniture1,shelves1,case1,shelves2,forniture2,cab1,case2,cab2])\n",
    "\n",
    "VIEW(first_side(3.0,2.0))"
   ]
  },
  {
   "cell_type": "code",
   "execution_count": 10,
   "metadata": {},
   "outputs": [
    {
     "data": {
      "text/plain": [
       "<pyplasm.xgepy.Hpc; proxy of <Swig Object of type 'std::shared_ptr< Hpc > *' at 0x7f7506781480> >"
      ]
     },
     "execution_count": 10,
     "metadata": {},
     "output_type": "execute_result"
    }
   ],
   "source": [
    "r = 0.2  # standard distance between fornitures\n",
    "\n",
    "def second_side(x,h):\n",
    "    side = wall(x,h)\n",
    "    divan = T(1)(r)(sofa(x*1.0/3.0,x*1.0/9.0,x*1.0/3.0*0.4))\n",
    "    library = T(1)(r+0.2+x*1.0/3.0)(bookcase(x*1.0/3.0,d,t,h*0.75))\n",
    "    return R([1,2])(-PI/2)(T(1)(-x)((STRUCT([side,divan,library]))))\n",
    "\n",
    "VIEW(second_side(3.0,2.0))"
   ]
  },
  {
   "cell_type": "code",
   "execution_count": 11,
   "metadata": {},
   "outputs": [
    {
     "data": {
      "text/plain": [
       "<pyplasm.xgepy.Hpc; proxy of <Swig Object of type 'std::shared_ptr< Hpc > *' at 0x7f7506781d20> >"
      ]
     },
     "execution_count": 11,
     "metadata": {},
     "output_type": "execute_result"
    }
   ],
   "source": [
    "def build_room(x,h): # x larghezza parete, h altezza\n",
    "    side1 = first_side(x,h)\n",
    "    side2 = second_side(x,h)\n",
    "    ceiling = T(3)(h)(R([2,3])(-PI/2)(wall(x,x)))\n",
    "    floor = R([2,3])(-PI/2)(wall(x,x))\n",
    "    return STRUCT([side1,side2,ceiling,floor])\n",
    "\n",
    "VIEW(build_room(3.0,2.0))"
   ]
  },
  {
   "cell_type": "code",
   "execution_count": 13,
   "metadata": {},
   "outputs": [
    {
     "data": {
      "text/plain": [
       "<pyplasm.xgepy.Hpc; proxy of <Swig Object of type 'std::shared_ptr< Hpc > *' at 0x7f75067819c0> >"
      ]
     },
     "execution_count": 13,
     "metadata": {},
     "output_type": "execute_result"
    }
   ],
   "source": [
    "VIEW(build_room(3.0,2.0))"
   ]
  }
 ],
 "metadata": {
  "kernelspec": {
   "display_name": "Python 2",
   "language": "python",
   "name": "python2"
  },
  "language_info": {
   "codemirror_mode": {
    "name": "ipython",
    "version": 2
   },
   "file_extension": ".py",
   "mimetype": "text/x-python",
   "name": "python",
   "nbconvert_exporter": "python",
   "pygments_lexer": "ipython2",
   "version": "2.7.13"
  }
 },
 "nbformat": 4,
 "nbformat_minor": 2
}
