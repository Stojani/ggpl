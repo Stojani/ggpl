{
 "cells": [
  {
   "cell_type": "markdown",
   "metadata": {},
   "source": [
    "### Workshop_01: From PLASM to PyPLASM code translation"
   ]
  },
  {
   "cell_type": "markdown",
   "metadata": {},
   "source": [
    "##### Polyhedral complex"
   ]
  },
  {
   "cell_type": "raw",
   "metadata": {},
   "source": [
    "DEF L_shape1 = MKPOL:< verts, cells, pols >\n",
    "WHERE\n",
    "verts = <<0,0>,<2,0>,<2,1>,<1,1>,<1,2>,<0,2>>,\n",
    "cells = <<1,2,3,4>,<4,5,6,1>>,\n",
    "pols = <<1>,<2>>\n",
    "END;"
   ]
  },
  {
   "cell_type": "code",
   "execution_count": 3,
   "metadata": {},
   "outputs": [
    {
     "data": {
      "text/plain": [
       "<pyplasm.xgepy.Hpc; proxy of <Swig Object of type 'std::shared_ptr< Hpc > *' at 0x7f8d89f1f450> >"
      ]
     },
     "execution_count": 3,
     "metadata": {},
     "output_type": "execute_result"
    }
   ],
   "source": [
    "from larlib import *\n",
    "\n",
    "def L_shape1(): \n",
    "    verts = [[0,0],[2,0],[2,1],[1,1],[1,2],[0,2]]\n",
    "    cells = [[0,1,2,3],[3,4,5,0]]\n",
    "    pols = [[0],[1]]\n",
    "    return MKPOLS([verts, cells, pols])\n",
    "VIEW(STRUCT(L_shape1()))"
   ]
  },
  {
   "cell_type": "markdown",
   "metadata": {},
   "source": [
    "![polyhedral complex](img/01-polyhedral.png)"
   ]
  },
  {
   "cell_type": "markdown",
   "metadata": {},
   "source": [
    "##### Table model"
   ]
  },
  {
   "cell_type": "raw",
   "metadata": {},
   "source": [
    "DEF Leg = CUBOID:< 0.1,0.1,0.7 >;\n",
    "DEF Plane = CUBOID:< 1, 1, 0.2>;\n",
    "DEF Table = STRUCT:<\n",
    "Leg, T:1:0.9:Leg, T:<1,2>:<0.9,0.9>:Leg, T:2:0.9:Leg,\n",
    "T:3:0.7:Plane >;"
   ]
  },
  {
   "cell_type": "code",
   "execution_count": 4,
   "metadata": {},
   "outputs": [
    {
     "data": {
      "text/plain": [
       "<pyplasm.xgepy.Hpc; proxy of <Swig Object of type 'std::shared_ptr< Hpc > *' at 0x7f8d89f1f750> >"
      ]
     },
     "execution_count": 4,
     "metadata": {},
     "output_type": "execute_result"
    }
   ],
   "source": [
    "from pyplasm import *\n",
    "\n",
    "def Leg(): return CUBOID([0.1,0.1,0.7])\n",
    "def Plane(): return CUBOID([1,1,0.2])\n",
    "def Table(): return STRUCT([Leg(), T(1)(0.9) (Leg()), T(2)(0.9) (Leg()), T([1,2])([0.9,0.9]) (Leg()), T(3)(0.7) (Plane())])\n",
    "VIEW(Table())"
   ]
  },
  {
   "cell_type": "markdown",
   "metadata": {},
   "source": [
    "![table model](img/02-table.png)"
   ]
  },
  {
   "cell_type": "markdown",
   "metadata": {},
   "source": [
    "##### Unit hyper-parallelopipeds"
   ]
  },
  {
   "cell_type": "raw",
   "metadata": {},
   "source": [
    "DEF Segment = CUBOID:<1>;\n",
    "DEF Square = CUBOID:<1,1>;\n",
    "DEF Cube = CUBOID:<1,1,1>;\n",
    "DEF Hypercube = CUBOID:<1,1,1,1>;"
   ]
  },
  {
   "cell_type": "code",
   "execution_count": 5,
   "metadata": {},
   "outputs": [
    {
     "data": {
      "text/plain": [
       "<pyplasm.xgepy.Hpc; proxy of <Swig Object of type 'std::shared_ptr< Hpc > *' at 0x7f8d89f1fae0> >"
      ]
     },
     "execution_count": 5,
     "metadata": {},
     "output_type": "execute_result"
    }
   ],
   "source": [
    "from pyplasm import *\n",
    "\n",
    "def segment(): return CUBOID([1])\n",
    "def square(): return CUBOID([1,1])\n",
    "def cube(): return CUBOID([1,1,1])\n",
    "def hypercube(): return CUBOID([1,1,1,1])\n",
    "\n",
    "VIEW(STRUCT([T(1)(2) (square()), cube()]))"
   ]
  },
  {
   "cell_type": "markdown",
   "metadata": {},
   "source": [
    "![square and cube](img/03-square.png)"
   ]
  },
  {
   "cell_type": "markdown",
   "metadata": {},
   "source": [
    "##### Assembly of colored cubes"
   ]
  },
  {
   "cell_type": "raw",
   "metadata": {},
   "source": [
    "DEF cube = CUBOID:<1,1,1>;\n",
    "DEF cube1 = cube COLOR CYAN;\n",
    "DEF cube2 = cube COLOR MAGENTA;\n",
    "DEF cube3 = cube COLOR YELLOW;\n",
    "DEF basis = (EMBED:1 ∼ CUBOID):<3,3>;\n",
    "DEF assembly = cube1 TOP cube2 TOP cube3;\n",
    "DEF out = basis TOP assembly;"
   ]
  },
  {
   "cell_type": "code",
   "execution_count": 6,
   "metadata": {},
   "outputs": [
    {
     "data": {
      "text/plain": [
       "<pyplasm.xgepy.Hpc; proxy of <Swig Object of type 'std::shared_ptr< Hpc > *' at 0x7f8d89f1fa80> >"
      ]
     },
     "execution_count": 6,
     "metadata": {},
     "output_type": "execute_result"
    }
   ],
   "source": [
    "from pyplasm import *\n",
    "\n",
    "def cube(): return CUBOID([1,1,1])\n",
    "def cube1(): return COLOR(CYAN)(cube())\n",
    "def cube2(): return COLOR(MAGENTA)(cube())\n",
    "def cube3(): return COLOR(YELLOW)(cube())\n",
    "def basis(): return EMBED(1)(CUBOID([3,3]))\n",
    "def assembly(): return TOP([TOP([cube1(),cube2()]), cube3()])\n",
    "def out(): return TOP([basis(),assembly()])\n",
    "\n",
    "VIEW(STRUCT([out()]))"
   ]
  },
  {
   "cell_type": "markdown",
   "metadata": {},
   "source": [
    "![coloured cubes](img/04-cubes.png)"
   ]
  },
  {
   "cell_type": "markdown",
   "metadata": {},
   "source": [
    "##### Boolean operations between cubes"
   ]
  },
  {
   "cell_type": "raw",
   "metadata": {},
   "source": [
    "DEF a = T:<1,2>:<-0.5,-0.5>:(CUBOID:<1,1,1>);\n",
    "DEF b = R:<1,2>:(PI/4):a;\n",
    "STRUCT:< a + b, T:1:2, a & b, T:1:2, a ∧ b, T:1:2, a - b >;"
   ]
  },
  {
   "cell_type": "code",
   "execution_count": 7,
   "metadata": {},
   "outputs": [
    {
     "data": {
      "text/plain": [
       "<pyplasm.xgepy.Hpc; proxy of <Swig Object of type 'std::shared_ptr< Hpc > *' at 0x7f8d89f1f480> >"
      ]
     },
     "execution_count": 7,
     "metadata": {},
     "output_type": "execute_result"
    }
   ],
   "source": [
    "from pyplasm import * \n",
    "\n",
    "def a():\n",
    "    return T([1,2])([-0.5,-0.5])(CUBOID([1,1,1]))\n",
    "def b():\n",
    "    return R([1,2])(PI/4)(a())\n",
    "def result():\n",
    "    return STRUCT([UNION([a(),b()]), T(1)(2), INTERSECTION([a(),b()]), T(1)(2),\n",
    "                  XOR([a(), b()]), T(1)(2), DIFFERENCE([a(),b()])])\n",
    "\n",
    "VIEW(result())"
   ]
  },
  {
   "cell_type": "markdown",
   "metadata": {},
   "source": [
    "![boolean cubes](img/05-boolean.png)"
   ]
  },
  {
   "cell_type": "markdown",
   "metadata": {},
   "source": [
    "##### Basic Cylinders"
   ]
  },
  {
   "cell_type": "raw",
   "metadata": {},
   "source": [
    "STRUCT:<\n",
    "CYLINDER:<1, 1>:4, T:1:2.5,\n",
    "CYLINDER:<1, 2>:8, T:1:3.5,\n",
    "CYLINDER:<1.5, 3>:16, T:1:4.5,\n",
    "CYLINDER:<1.5, 4>:24\n",
    ">;"
   ]
  },
  {
   "cell_type": "code",
   "execution_count": 8,
   "metadata": {},
   "outputs": [
    {
     "data": {
      "text/plain": [
       "<pyplasm.xgepy.Hpc; proxy of <Swig Object of type 'std::shared_ptr< Hpc > *' at 0x7f8d89f2b720> >"
      ]
     },
     "execution_count": 8,
     "metadata": {},
     "output_type": "execute_result"
    }
   ],
   "source": [
    "from pyplasm import *\n",
    "\n",
    "def cylinder1(): return CYLINDER([1,1])(4)\n",
    "def cylinder2(): return CYLINDER([1,2])(8)\n",
    "def cylinder3(): return CYLINDER([1.5,3])(16)\n",
    "def cylinder4(): return CYLINDER([1.5,4])(24)\n",
    "def finalstruct():  return STRUCT([(cylinder1()), T(1)(2.5) (cylinder2()),T(1)(5.5) (cylinder3()), T(1)(9.5)(cylinder4())])\n",
    "\n",
    "VIEW(finalstruct())"
   ]
  },
  {
   "cell_type": "markdown",
   "metadata": {},
   "source": [
    "![basic cylinders](img/06-cylinders.png)"
   ]
  },
  {
   "cell_type": "markdown",
   "metadata": {},
   "source": [
    "##### Polyhedral product of a 2D plan times"
   ]
  },
  {
   "cell_type": "raw",
   "metadata": {},
   "source": [
    "DEF plan = STRUCT:< Q:<4,-2,4> * Q:<4,4>, T:<1,2>:<4,1>, Q:2 * Q:<2,4,2> >;\n",
    "DEF section = MKPOL:<<<0,0>,<10,0>,<10,3>,<5,4.5>,<0,3>>,<1..5>,<<1>>>;\n",
    "DEF Block = @2:(plan * Q:<3,3,3>)"
   ]
  },
  {
   "cell_type": "code",
   "execution_count": 9,
   "metadata": {},
   "outputs": [
    {
     "data": {
      "text/plain": [
       "<pyplasm.xgepy.Hpc; proxy of <Swig Object of type 'std::shared_ptr< Hpc > *' at 0x7f8d89f2b6f0> >"
      ]
     },
     "execution_count": 9,
     "metadata": {},
     "output_type": "execute_result"
    }
   ],
   "source": [
    "from pyplasm import *\n",
    "from larlib import *\n",
    "\n",
    "plan = STRUCT([PROD([QUOTE([4,-2,4]),QUOTE([4,4])]), T([1,2])([4,1])(PROD([(QUOTE([2])),QUOTE([2,4,2])]))])\n",
    "section = MKPOLS([[[0,0],[10,0],[10,3],[5,4.5],[0,3]],[[1,2,3],[1]]])\n",
    "\n",
    "VIEW(SKEL_2(PROD([plan,QUOTE([3,3,3])])))"
   ]
  },
  {
   "cell_type": "markdown",
   "metadata": {},
   "source": [
    "![block](img/07-poly.png)"
   ]
  },
  {
   "cell_type": "markdown",
   "metadata": {},
   "source": [
    "##### Roman Column"
   ]
  },
  {
   "cell_type": "raw",
   "metadata": {},
   "source": [
    "DEF Column (r,h::IsRealPos) = basis TOP trunk TOP capital TOP beam\n",
    "WHERE\n",
    "basis = CUBOID:< 2*r*1.2, 2*r*1.2, h/12 >,\n",
    "trunk = CYLINDER:< r, (10/12)*h >:12,\n",
    "capital = basis,\n",
    "beam = S:1:3:capital\n",
    "END;"
   ]
  },
  {
   "cell_type": "code",
   "execution_count": 15,
   "metadata": {},
   "outputs": [
    {
     "data": {
      "text/plain": [
       "<pyplasm.xgepy.Hpc; proxy of <Swig Object of type 'std::shared_ptr< Hpc > *' at 0x7f8d89f2bf30> >"
      ]
     },
     "execution_count": 15,
     "metadata": {},
     "output_type": "execute_result"
    }
   ],
   "source": [
    "def column(r,h):\n",
    "    basis = CUBOID([2*r*1.2, 2*r*1.2, h/12])\n",
    "    trunk = CYLINDER([r, (10.0/12.0)*h])(12)\n",
    "    capital = basis\n",
    "    beam = S(1)(3)(capital)\n",
    "    return STRUCT([TOP([TOP([TOP([basis,trunk]),capital]),beam])])\n",
    "VIEW(column(1,12))"
   ]
  },
  {
   "cell_type": "markdown",
   "metadata": {},
   "source": [
    "![roman column](img/08-column.png)"
   ]
  }
 ],
 "metadata": {
  "kernelspec": {
   "display_name": "Python 2",
   "language": "python",
   "name": "python2"
  },
  "language_info": {
   "codemirror_mode": {
    "name": "ipython",
    "version": 2
   },
   "file_extension": ".py",
   "mimetype": "text/x-python",
   "name": "python",
   "nbconvert_exporter": "python",
   "pygments_lexer": "ipython2",
   "version": "2.7.13"
  }
 },
 "nbformat": 4,
 "nbformat_minor": 2
}
