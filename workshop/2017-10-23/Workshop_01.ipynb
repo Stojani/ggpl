{
 "cells": [
  {
   "cell_type": "code",
   "execution_count": 1,
   "metadata": {},
   "outputs": [
    {
     "name": "stdout",
     "output_type": "stream",
     "text": [
      "Evaluating fenvs.py..\n",
      "...fenvs.py imported in 0.004956 seconds\n"
     ]
    }
   ],
   "source": [
    "\"\"\"function template in the general case\n",
    "\n",
    "DEF global (p1::IsType1; p2::IsType2) (q1,q2::IsType3) = Body\n",
    "WHERE\n",
    "local1 = body1,\n",
    "local2 = body2\n",
    "WHERE local21 = body21 END\n",
    "END;\n",
    "\"\"\"\n",
    "\n",
    "from pyplasm import *\n",
    "def name(p1,p2):\n",
    "    local1 = body1\n",
    "    local2 = body2\n",
    "    local21 = body21\n",
    "    def name1(q1,q2):\n",
    "        return Body\n",
    "    return name1"
   ]
  },
  {
   "cell_type": "code",
   "execution_count": 4,
   "metadata": {},
   "outputs": [
    {
     "data": {
      "text/plain": [
       "<pyplasm.xgepy.Hpc; proxy of <Swig Object of type 'std::shared_ptr< Hpc > *' at 0x7f2b06f6c660> >"
      ]
     },
     "execution_count": 4,
     "metadata": {},
     "output_type": "execute_result"
    }
   ],
   "source": [
    "\"\"\" Polyhedral complex\n",
    "\n",
    "DEF L_shape1 = MKPOL:< verts, cells, pols >\n",
    "WHERE\n",
    "verts = <<0,0>,<2,0>,<2,1>,<1,1>,<1,2>,<0,2>>,\n",
    "cells = <<1,2,3,4>,<4,5,6,1>>,\n",
    "pols = <<1>,<2>>\n",
    "END;\n",
    "\"\"\"\n",
    "\n",
    "from pyplasm import *\n",
    "from larlib import *\n",
    "\n",
    "def L_shape1(): \n",
    "    verts = [[0,0],[2,0],[2,1],[1,1],[1,2],[0,2]]\n",
    "    cells = [[0,1,2,3],[3,4,5,0]]\n",
    "    pols = [[0],[1]]\n",
    "    return MKPOLS([verts, cells, pols])\n",
    "VIEW(STRUCT(L_shape1()))"
   ]
  },
  {
   "cell_type": "code",
   "execution_count": 5,
   "metadata": {},
   "outputs": [
    {
     "data": {
      "text/plain": [
       "<pyplasm.xgepy.Hpc; proxy of <Swig Object of type 'std::shared_ptr< Hpc > *' at 0x7f2b06f6c450> >"
      ]
     },
     "execution_count": 5,
     "metadata": {},
     "output_type": "execute_result"
    }
   ],
   "source": [
    "\"\"\" Table model\n",
    "\n",
    "DEF Leg = CUBOID:< 0.1,0.1,0.7 >;\n",
    "DEF Plane = CUBOID:< 1, 1, 0.2>;\n",
    "DEF Table = STRUCT:<\n",
    "Leg, T:1:0.9:Leg, T:<1,2>:<0.9,0.9>:Leg, T:2:0.9:Leg,\n",
    "T:3:0.7:Plane >;\n",
    "\"\"\"\n",
    "\n",
    "from pyplasm import *\n",
    "def Leg(): return CUBOID([0.1,0.1,0.7])\n",
    "def Plane(): return CUBOID([1,1,0.2])\n",
    "def Table(): return STRUCT([Leg(), T(1)(0.9) (Leg()), T(2)(0.9) (Leg()), T([1,2])([0.9,0.9]) (Leg()), T(3)(0.7) (Plane())])\n",
    "VIEW(Table())"
   ]
  },
  {
   "cell_type": "code",
   "execution_count": 6,
   "metadata": {},
   "outputs": [
    {
     "data": {
      "text/plain": [
       "<pyplasm.xgepy.Hpc; proxy of <Swig Object of type 'std::shared_ptr< Hpc > *' at 0x7f2b06f6c720> >"
      ]
     },
     "execution_count": 6,
     "metadata": {},
     "output_type": "execute_result"
    }
   ],
   "source": [
    "\"\"\" Unit hyper-parallelopipeds\n",
    "DEF Segment = CUBOID:<1>;\n",
    "DEF Square = CUBOID:<1,1>;\n",
    "DEF Cube = CUBOID:<1,1,1>;\n",
    "DEF Hypercube = CUBOID:<1,1,1,1>;\n",
    "\"\"\"\n",
    "\n",
    "from pyplasm import *\n",
    "def segment(): return CUBOID([1])\n",
    "def square(): return CUBOID([1,1])\n",
    "def cube(): return CUBOID([1,1,1])\n",
    "def hypercube(): return CUBOID([1,1,1,1])\n",
    "\n",
    "VIEW(STRUCT([T(1)(2) (square()), cube()]))"
   ]
  },
  {
   "cell_type": "code",
   "execution_count": 7,
   "metadata": {},
   "outputs": [
    {
     "data": {
      "text/plain": [
       "<pyplasm.xgepy.Hpc; proxy of <Swig Object of type 'std::shared_ptr< Hpc > *' at 0x7f2b06f6c8a0> >"
      ]
     },
     "execution_count": 7,
     "metadata": {},
     "output_type": "execute_result"
    }
   ],
   "source": [
    "\"\"\" Assembly of colored cubes\n",
    "DEF cube = CUBOID:<1,1,1>;\n",
    "DEF cube1 = cube COLOR CYAN;\n",
    "DEF cube2 = cube COLOR MAGENTA;\n",
    "DEF cube3 = cube COLOR YELLOW;\n",
    "DEF basis = (EMBED:1 ∼ CUBOID):<3,3>;\n",
    "DEF assembly = cube1 TOP cube2 TOP cube3;\n",
    "DEF out = basis TOP assembly;\n",
    "\"\"\"\n",
    "\n",
    "from pyplasm import *\n",
    "def cube(): return CUBOID([1,1,1])\n",
    "def cube1(): return COLOR(CYAN)(cube())\n",
    "def cube2(): return COLOR(MAGENTA)(cube())\n",
    "def cube3(): return COLOR(YELLOW)(cube())\n",
    "def basis(): return EMBED(1)(CUBOID([3,3]))\n",
    "def assembly(): return TOP([TOP([cube1(),cube2()]), cube3()])\n",
    "def out(): return TOP([basis(),assembly()])\n",
    "\n",
    "VIEW(STRUCT([out()]))"
   ]
  },
  {
   "cell_type": "code",
   "execution_count": 8,
   "metadata": {},
   "outputs": [
    {
     "data": {
      "text/plain": [
       "<pyplasm.xgepy.Hpc; proxy of <Swig Object of type 'std::shared_ptr< Hpc > *' at 0x7f2b06f6cba0> >"
      ]
     },
     "execution_count": 8,
     "metadata": {},
     "output_type": "execute_result"
    }
   ],
   "source": [
    "\"\"\" basic Cylinders\n",
    "STRUCT:<\n",
    "CYLINDER:<1, 1>:4, T:1:2.5,\n",
    "CYLINDER:<1, 2>:8, T:1:3.5,\n",
    "CYLINDER:<1.5, 3>:16, T:1:4.5,\n",
    "CYLINDER:<1.5, 4>:24\n",
    ">;\n",
    "\"\"\"\n",
    "\n",
    "from pyplasm import *\n",
    "def cylinder1(): return CYLINDER([1,1])(4)\n",
    "def cylinder2(): return CYLINDER([1,2])(8)\n",
    "def cylinder3(): return CYLINDER([1.5,3])(16)\n",
    "def cylinder4(): return CYLINDER([1.5,4])(24)\n",
    "def finalstruct():  return STRUCT([(cylinder1()), T(1)(2.5) (cylinder2()),T(1)(5.5) (cylinder3()), T(1)(9.5)(cylinder4())])\n",
    "\n",
    "VIEW(finalstruct())"
   ]
  },
  {
   "cell_type": "code",
   "execution_count": 9,
   "metadata": {},
   "outputs": [
    {
     "data": {
      "text/plain": [
       "<pyplasm.xgepy.Hpc; proxy of <Swig Object of type 'std::shared_ptr< Hpc > *' at 0x7f2b06f6c9c0> >"
      ]
     },
     "execution_count": 9,
     "metadata": {},
     "output_type": "execute_result"
    }
   ],
   "source": [
    "\"\"\"Polyhedral product of a 2D plan times\n",
    "\n",
    "DEF plan = STRUCT:< Q:<4,-2,4> * Q:<4,4>, T:<1,2>:<4,1>, Q:2 * Q:<2,4,2> >;\n",
    "DEF section = MKPOL:<<<0,0>,<10,0>,<10,3>,<5,4.5>,<0,3>>,<1..5>,<<1>>>;\n",
    "DEF Block = @2:(plan * Q:<3,3,3>)\n",
    "\"\"\"\n",
    "\n",
    "from pyplasm import *\n",
    "from larlib import *\n",
    "\n",
    "plan = STRUCT([PROD([QUOTE([4,-2,4]),QUOTE([4,4])]), T([1,2])([4,1])(PROD([(QUOTE([2])),QUOTE([2,4,2])]))])\n",
    "section = MKPOLS([[[0,0],[10,0],[10,3],[5,4.5],[0,3]],[[1,2,3],[1]]])\n",
    "\n",
    "VIEW(SKEL_2(PROD([plan,QUOTE([3,3,3])])))"
   ]
  },
  {
   "cell_type": "code",
   "execution_count": null,
   "metadata": {},
   "outputs": [],
   "source": []
  }
 ],
 "metadata": {
  "kernelspec": {
   "display_name": "Python 2",
   "language": "python",
   "name": "python2"
  },
  "language_info": {
   "codemirror_mode": {
    "name": "ipython",
    "version": 2
   },
   "file_extension": ".py",
   "mimetype": "text/x-python",
   "name": "python",
   "nbconvert_exporter": "python",
   "pygments_lexer": "ipython2",
   "version": "2.7.13"
  }
 },
 "nbformat": 4,
 "nbformat_minor": 2
}
