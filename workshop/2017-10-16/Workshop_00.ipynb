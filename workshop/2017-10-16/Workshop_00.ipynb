{
 "cells": [
  {
   "cell_type": "code",
   "execution_count": 4,
   "metadata": {},
   "outputs": [
    {
     "data": {
      "text/plain": [
       "<pyplasm.xgepy.Hpc; proxy of <Swig Object of type 'std::shared_ptr< Hpc > *' at 0x7ff1187639f0> >"
      ]
     },
     "execution_count": 4,
     "metadata": {},
     "output_type": "execute_result"
    }
   ],
   "source": [
    "#Produce (and draw) 100 random points within the unit square [0, 1]^2\n",
    "\n",
    "from larlib import *\n",
    "from random import random as rand\n",
    "\n",
    "points = [[rand(), rand()] for k in range(1000)]\n",
    "cells = [[k+1] for k,v in enumerate(points)]\n",
    "VIEW(MKPOL([points,cells,None]))"
   ]
  },
  {
   "cell_type": "code",
   "execution_count": 3,
   "metadata": {},
   "outputs": [
    {
     "data": {
      "text/plain": [
       "<pyplasm.xgepy.Hpc; proxy of <Swig Object of type 'std::shared_ptr< Hpc > *' at 0x7ff117aad450> >"
      ]
     },
     "execution_count": 3,
     "metadata": {},
     "output_type": "execute_result"
    }
   ],
   "source": [
    "#Produce (and draw) 1000 random points within S1, the 1D sphere (circle) of unit radius centered at the origin (0, 0)\n",
    "\n",
    "from larlib import *\n",
    "from random import random as rand\n",
    "\n",
    "points = [[2*PI*rand(),rand()] for k in range(1000)]\n",
    "V = [[SQRT(r)*COS(alpha),SQRT(r)*SIN(alpha)] for alpha,r in points]\n",
    "cells = [[k+1] for k,v in enumerate(V)]\n",
    "VIEW(MKPOL([V,cells,None]))"
   ]
  },
  {
   "cell_type": "code",
   "execution_count": null,
   "metadata": {},
   "outputs": [],
   "source": []
  }
 ],
 "metadata": {
  "kernelspec": {
   "display_name": "Python 2",
   "language": "python",
   "name": "python2"
  },
  "language_info": {
   "codemirror_mode": {
    "name": "ipython",
    "version": 2
   },
   "file_extension": ".py",
   "mimetype": "text/x-python",
   "name": "python",
   "nbconvert_exporter": "python",
   "pygments_lexer": "ipython2",
   "version": "2.7.13"
  }
 },
 "nbformat": 4,
 "nbformat_minor": 2
}
