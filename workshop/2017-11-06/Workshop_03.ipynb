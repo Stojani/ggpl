{
 "cells": [
  {
   "cell_type": "markdown",
   "metadata": {},
   "source": [
    "### Workshop_03: Realization of Leonardo's church scheme"
   ]
  },
  {
   "cell_type": "markdown",
   "metadata": {},
   "source": [
    "![model](img/01-leonardo.jpg)"
   ]
  },
  {
   "cell_type": "markdown",
   "metadata": {},
   "source": [
    "#### Starting from the realization of base structures"
   ]
  },
  {
   "cell_type": "code",
   "execution_count": 1,
   "metadata": {},
   "outputs": [
    {
     "name": "stdout",
     "output_type": "stream",
     "text": [
      "Evaluating fenvs.py..\n",
      "...fenvs.py imported in 0.007202 seconds\n"
     ]
    }
   ],
   "source": [
    "from pyplasm import *\n",
    "\n",
    "def cylinder(x,y,z): \n",
    "    return COLOR(GRAY)(JOIN(CYLINDER([x,y])(z))) #largh, altezza, facce"
   ]
  },
  {
   "cell_type": "code",
   "execution_count": 3,
   "metadata": {},
   "outputs": [],
   "source": [
    "def dome(x,y,z):\n",
    "    sphere = JOIN(SPHERE(x)([y,z])) #raggio, linee orizzontali, facce\n",
    "    cube = CUBOID([2*x,2*x,2*x])\n",
    "    dome = INTERSECTION([(T([1,2])([x,x])(sphere)),cube])\n",
    "    return COLOR(BROWN)(dome)"
   ]
  },
  {
   "cell_type": "code",
   "execution_count": 4,
   "metadata": {},
   "outputs": [],
   "source": [
    "def tower(width, height, faces): \n",
    "    return TOP([TOP([cylinder(width, height, faces), cylinder(width*1.1,0.2,faces)]), dome(width, faces*2, faces)])"
   ]
  },
  {
   "cell_type": "markdown",
   "metadata": {},
   "source": [
    "#### Tower Sample"
   ]
  },
  {
   "cell_type": "markdown",
   "metadata": {},
   "source": [
    "![tower](img/02-tower.png)"
   ]
  },
  {
   "cell_type": "code",
   "execution_count": 5,
   "metadata": {},
   "outputs": [],
   "source": [
    "def base_struct(width, height):\n",
    "    return CUBOID([width, width, height])"
   ]
  },
  {
   "cell_type": "code",
   "execution_count": 6,
   "metadata": {},
   "outputs": [],
   "source": [
    "def main_struct(width, height, tower_width, tower_height, tower_faces):\n",
    "    base = base_struct(width, height)\n",
    "    main_tower = tower(tower_width*2, tower_height/2, tower_faces)\n",
    "    tower1 = T([1,2])([width*0.2, width*0.2])(tower(tower_width, tower_height, tower_faces))\n",
    "    tower2 = T([1,2])([width*0.2, width-width*0.2])(tower(tower_width, tower_height, tower_faces))\n",
    "    tower3 = T([1,2])([width-width*0.2,width*0.2])(tower(tower_width, tower_height, tower_faces))\n",
    "    tower4 = T([1,2])([width-width*0.2,width-width*0.2])(tower(tower_width, tower_height, tower_faces))\n",
    "    return STRUCT([TOP([base, main_tower]),tower1,tower2, tower3,tower4])"
   ]
  },
  {
   "cell_type": "markdown",
   "metadata": {},
   "source": [
    "#### Main_struct Sample"
   ]
  },
  {
   "cell_type": "markdown",
   "metadata": {},
   "source": [
    "![main_struct](img/03-main_struct.png)"
   ]
  },
  {
   "cell_type": "code",
   "execution_count": 7,
   "metadata": {},
   "outputs": [],
   "source": [
    "def chapel(width, height, tower_width, tower_height, tower_faces):\n",
    "    base = COLOR(BROWN)(base_struct(width, height))\n",
    "    main_tower = tower(tower_width*2, tower_height*4.0/5.0, tower_faces)\n",
    "    tower1 = T([1,2])([width, width/2])(tower(tower_width, tower_height, tower_faces))\n",
    "    tower2 = T([1,2])([width/2, width])(tower(tower_width, tower_height, tower_faces))\n",
    "    tower3 = T(2)(width/2)(tower(tower_width, tower_height, tower_faces))\n",
    "    tower4 = T(1)(width/2)(tower(tower_width, tower_height, tower_faces))\n",
    "    return STRUCT([TOP([base, main_tower]),tower1,tower2,tower3,tower4])"
   ]
  },
  {
   "cell_type": "markdown",
   "metadata": {},
   "source": [
    "#### Chapel Sample"
   ]
  },
  {
   "cell_type": "markdown",
   "metadata": {},
   "source": [
    "![chapel](img/04-chapel.png)"
   ]
  },
  {
   "cell_type": "code",
   "execution_count": 8,
   "metadata": {},
   "outputs": [],
   "source": [
    "def basis(x): \n",
    "    b1 = COLOR(GRAY)(CUBOID([x+x*1.0/6.0,x+x*1.0/6.0,0.1]))\n",
    "    b2 = COLOR(GRAY)(CUBOID([x-x*1.0/6.0,x+x*1.0/2.0,0.1]))\n",
    "    b3 = COLOR(GRAY)(CUBOID([x+x*1.0/2.0,x-x*1.0/6.0,0.1]))\n",
    "    return T([1,2])([-x*1.0/12.0,-x*1.0/12.0])(STRUCT([b1,T([1,2])([x*1.0/6.0,-x*1.0/6.0])(b2),\n",
    "                                                       T([1,2])([-x*1.0/6.0,x*1.0/6.0])(b3)]))"
   ]
  },
  {
   "cell_type": "code",
   "execution_count": 9,
   "metadata": {},
   "outputs": [],
   "source": [
    "def basilica(width, height, tower_width, tower_height, tower_faces):\n",
    "    base = main_struct(width, height, tower_width, tower_height, tower_faces)\n",
    "    basis1 = T(3)(-0.1)(basis(width))\n",
    "    basis2 = T(3)(-0.2)(basis(width+0.1))\n",
    "    basis3 = T(3)(-0.3)(basis(width+0.2))\n",
    "    chapel1 = T([1,2])([width-width/6, width/2-width/6])(chapel(width/3, height*2/3, tower_width/2, tower_height/3, tower_faces))\n",
    "    chapel2 = T([1,2])([width/2-width/6, width-width/6])(chapel(width/3, height*2/3, tower_width/2, tower_height/3, tower_faces))\n",
    "    chapel3 = T([1,2])([-width/6,width/2-width/6])(chapel(width/3, height*2/3,tower_width/2,tower_height/3, tower_faces))\n",
    "    chapel4 = T([1,2])([width/2-width/6,-width/6])(chapel(width/3,height*2/3,tower_width/2, tower_height/3, tower_faces))\n",
    "    return STRUCT([basis1,basis2,basis3,base,chapel1,chapel2,chapel3,chapel4])"
   ]
  },
  {
   "cell_type": "code",
   "execution_count": 10,
   "metadata": {},
   "outputs": [
    {
     "name": "stdout",
     "output_type": "stream",
     "text": [
      "Child 3\n",
      "Child 3\n",
      "Child 3\n",
      "Child 3\n",
      "Child 3\n",
      "Child 3\n",
      "Child 3\n",
      "Child 3\n",
      "Child 3\n",
      "Child 3\n",
      "Child 3\n",
      "Child 3\n",
      "Child 3\n",
      "Child 3\n",
      "Child 3\n",
      "Child 3\n",
      "Child 3\n",
      "Child 3\n",
      "Child 3\n",
      "Child 3\n",
      "Child 3\n",
      "Child 3\n",
      "Child 3\n",
      "Child 3\n",
      "Child 3\n"
     ]
    },
    {
     "data": {
      "text/plain": [
       "<pyplasm.xgepy.Hpc; proxy of <Swig Object of type 'std::shared_ptr< Hpc > *' at 0x7fd92b896030> >"
      ]
     },
     "execution_count": 10,
     "metadata": {},
     "output_type": "execute_result"
    }
   ],
   "source": [
    "VIEW(basilica(30,12,4,15,8))"
   ]
  },
  {
   "cell_type": "markdown",
   "metadata": {},
   "source": [
    "#### Final result"
   ]
  },
  {
   "cell_type": "markdown",
   "metadata": {},
   "source": [
    "![final_result](img/05-church.png)"
   ]
  },
  {
   "cell_type": "markdown",
   "metadata": {},
   "source": [
    "![result](img/06-church.png)"
   ]
  }
 ],
 "metadata": {
  "kernelspec": {
   "display_name": "Python 2",
   "language": "python",
   "name": "python2"
  },
  "language_info": {
   "codemirror_mode": {
    "name": "ipython",
    "version": 2
   },
   "file_extension": ".py",
   "mimetype": "text/x-python",
   "name": "python",
   "nbconvert_exporter": "python",
   "pygments_lexer": "ipython2",
   "version": "2.7.13"
  }
 },
 "nbformat": 4,
 "nbformat_minor": 2
}
