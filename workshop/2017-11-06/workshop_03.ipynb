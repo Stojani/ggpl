{
 "cells": [
  {
   "cell_type": "code",
   "execution_count": 54,
   "metadata": {},
   "outputs": [],
   "source": [
    "from pyplasm import *\n",
    "\n",
    "def cylinder(x,y,z): \n",
    "    return COLOR(GRAY)(JOIN(CYLINDER([x,y])(z))) #largh, altezza, facce"
   ]
  },
  {
   "cell_type": "code",
   "execution_count": 67,
   "metadata": {},
   "outputs": [],
   "source": [
    "def dome(x,y,z):\n",
    "    sphere = JOIN(SPHERE(x)([y,z])) #raggio, linee orizzontali, facce\n",
    "    cube = CUBOID([2*x,2*x,2*x])\n",
    "    dome = INTERSECTION([(T([1,2])([x,x])(sphere)),cube])\n",
    "    return COLOR(BROWN)(dome)"
   ]
  },
  {
   "cell_type": "code",
   "execution_count": 3,
   "metadata": {},
   "outputs": [],
   "source": [
    "def tower(width, height, faces): \n",
    "    return TOP([TOP([cylinder(width, height, faces), cylinder(width*1.1,2,faces)]), dome(width, height, faces)])"
   ]
  },
  {
   "cell_type": "code",
   "execution_count": 4,
   "metadata": {},
   "outputs": [],
   "source": [
    "def base_struct(width, height):\n",
    "    return CUBOID([width, width, height])"
   ]
  },
  {
   "cell_type": "code",
   "execution_count": 19,
   "metadata": {},
   "outputs": [
    {
     "name": "stdout",
     "output_type": "stream",
     "text": [
      "Child 3\n",
      "Child 3\n",
      "Child 3\n",
      "Child 3\n",
      "Child 3\n"
     ]
    },
    {
     "data": {
      "text/plain": [
       "<pyplasm.xgepy.Hpc; proxy of <Swig Object of type 'std::shared_ptr< Hpc > *' at 0x7f8305256ab0> >"
      ]
     },
     "execution_count": 19,
     "metadata": {},
     "output_type": "execute_result"
    }
   ],
   "source": [
    "def main_struct(width, height, tower_width, tower_height, tower_faces):\n",
    "    base = base_struct(width, height)\n",
    "    main_tower = tower(tower_width*2, tower_height/2, tower_faces)\n",
    "    tower1 = T([1,2])([width*0.2, width*0.2])(tower(tower_width, tower_height, tower_faces))\n",
    "    tower2 = T([1,2])([width*0.2, width-width*0.2])(tower(tower_width, tower_height, tower_faces))\n",
    "    tower3 = T([1,2])([width-width*0.2,width*0.2])(tower(tower_width, tower_height, tower_faces))\n",
    "    tower4 = T([1,2])([width-width*0.2,width-width*0.2])(tower(tower_width, tower_height, tower_faces))\n",
    "    return STRUCT([TOP([base, main_tower]),tower1,tower2, tower3,tower4])\n",
    "\n",
    "VIEW(main_struct(120,150,15,170,8))"
   ]
  },
  {
   "cell_type": "code",
   "execution_count": 68,
   "metadata": {},
   "outputs": [
    {
     "name": "stdout",
     "output_type": "stream",
     "text": [
      "Child 3\n",
      "Child 3\n",
      "Child 3\n",
      "Child 3\n",
      "Child 3\n"
     ]
    },
    {
     "data": {
      "text/plain": [
       "<pyplasm.xgepy.Hpc; proxy of <Swig Object of type 'std::shared_ptr< Hpc > *' at 0x7f830513e6c0> >"
      ]
     },
     "execution_count": 68,
     "metadata": {},
     "output_type": "execute_result"
    }
   ],
   "source": [
    "def chapel(width, height, tower_width, tower_height, tower_faces):\n",
    "    base = COLOR(BROWN)(base_struct(width, height))\n",
    "    main_tower = tower(tower_width*2, tower_height/2, tower_faces)\n",
    "    tower1 = T([1,2])([width, width/2])(tower(tower_width, tower_height, tower_faces))\n",
    "    tower2 = T([1,2])([width/2, width])(tower(tower_width, tower_height, tower_faces))\n",
    "    tower3 = T(2)(width/2)(tower(tower_width, tower_height, tower_faces))\n",
    "    tower4 = T(1)(width/2)(tower(tower_width, tower_height, tower_faces))\n",
    "    return STRUCT([TOP([base, main_tower]),tower1,tower2,tower3,tower4])\n",
    "\n",
    "VIEW(chapel(40,60,8,50,8))"
   ]
  },
  {
   "cell_type": "code",
   "execution_count": 70,
   "metadata": {},
   "outputs": [
    {
     "name": "stdout",
     "output_type": "stream",
     "text": [
      "Child 3\n",
      "Child 3\n",
      "Child 3\n",
      "Child 3\n",
      "Child 3\n",
      "Child 3\n",
      "Child 3\n",
      "Child 3\n",
      "Child 3\n",
      "Child 3\n",
      "Child 3\n",
      "Child 3\n",
      "Child 3\n",
      "Child 3\n",
      "Child 3\n",
      "Child 3\n",
      "Child 3\n",
      "Child 3\n",
      "Child 3\n",
      "Child 3\n",
      "Child 3\n",
      "Child 3\n",
      "Child 3\n",
      "Child 3\n",
      "Child 3\n"
     ]
    },
    {
     "data": {
      "text/plain": [
       "<pyplasm.xgepy.Hpc; proxy of <Swig Object of type 'std::shared_ptr< Hpc > *' at 0x7f830513e720> >"
      ]
     },
     "execution_count": 70,
     "metadata": {},
     "output_type": "execute_result"
    }
   ],
   "source": [
    "def basilica(width, height, tower_width, tower_height, tower_faces):\n",
    "    base = main_struct(width, height, tower_width, tower_height, tower_faces)\n",
    "    chapel1 = T([1,2])([width-width/6, width/2-width/6])(chapel(width/3, height*2/3, tower_width/2, tower_height/3, tower_faces))\n",
    "    chapel2 = T([1,2])([width/2-width/6, width-width/6])(chapel(width/3, height*2/3, tower_width/2, tower_height/3, tower_faces))\n",
    "    chapel3 = T([1,2])([-width/6,width/2-width/6])(chapel(width/3, height*2/3,tower_width/2,tower_height/3, tower_faces))\n",
    "    chapel4 = T([1,2])([width/2-width/6,-width/6])(chapel(width/3,height*2/3,tower_width/2, tower_height/3, tower_faces))\n",
    "    return STRUCT([base,chapel1,chapel2,chapel3,chapel4])\n",
    "\n",
    "VIEW(basilica(30,12,4,15,8))"
   ]
  },
  {
   "cell_type": "code",
   "execution_count": 71,
   "metadata": {},
   "outputs": [
    {
     "name": "stdout",
     "output_type": "stream",
     "text": [
      "Child 3\n",
      "Child 3\n",
      "Child 3\n",
      "Child 3\n",
      "Child 3\n",
      "Child 3\n",
      "Child 3\n",
      "Child 3\n",
      "Child 3\n",
      "Child 3\n",
      "Child 3\n",
      "Child 3\n",
      "Child 3\n",
      "Child 3\n",
      "Child 3\n",
      "Child 3\n",
      "Child 3\n",
      "Child 3\n",
      "Child 3\n",
      "Child 3\n",
      "Child 3\n",
      "Child 3\n",
      "Child 3\n",
      "Child 3\n",
      "Child 3\n"
     ]
    },
    {
     "data": {
      "text/plain": [
       "<pyplasm.xgepy.Hpc; proxy of <Swig Object of type 'std::shared_ptr< Hpc > *' at 0x7f830513e780> >"
      ]
     },
     "execution_count": 71,
     "metadata": {},
     "output_type": "execute_result"
    }
   ],
   "source": [
    "VIEW(basilica(30,12,4,15,8))"
   ]
  },
  {
   "cell_type": "code",
   "execution_count": null,
   "metadata": {},
   "outputs": [],
   "source": []
  }
 ],
 "metadata": {
  "kernelspec": {
   "display_name": "Python 2",
   "language": "python",
   "name": "python2"
  },
  "language_info": {
   "codemirror_mode": {
    "name": "ipython",
    "version": 2
   },
   "file_extension": ".py",
   "mimetype": "text/x-python",
   "name": "python",
   "nbconvert_exporter": "python",
   "pygments_lexer": "ipython2",
   "version": "2.7.13"
  }
 },
 "nbformat": 4,
 "nbformat_minor": 2
}
